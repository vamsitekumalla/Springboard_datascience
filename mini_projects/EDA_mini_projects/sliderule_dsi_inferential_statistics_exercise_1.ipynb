{
 "cells": [
  {
   "cell_type": "markdown",
   "metadata": {},
   "source": [
    "# What is the True Normal Human Body Temperature? \n",
    "\n",
    "#### Background\n",
    "\n",
    "The mean normal body temperature was held to be 37$^{\\circ}$C or 98.6$^{\\circ}$F for more than 120 years since it was first conceptualized and reported by Carl Wunderlich in a famous 1868 book. But, is this value statistically correct?"
   ]
  },
  {
   "cell_type": "markdown",
   "metadata": {},
   "source": [
    "<h3>Exercises</h3>\n",
    "\n",
    "<p>In this exercise, you will analyze a dataset of human body temperatures and employ the concepts of hypothesis testing, confidence intervals, and statistical significance.</p>\n",
    "\n",
    "<p>Answer the following questions <b>in this notebook below and submit to your Github account</b>.</p> \n",
    "\n",
    "<ol>\n",
    "<li>  Is the distribution of body temperatures normal? \n",
    "    <ul>\n",
    "    <li> Although this is not a requirement for the Central Limit Theorem to hold (read the introduction on Wikipedia's page about the CLT carefully: https://en.wikipedia.org/wiki/Central_limit_theorem), it gives us some peace of mind that the population may also be normally distributed if we assume that this sample is representative of the population.\n",
    "    <li> Think about the way you're going to check for the normality of the distribution. Graphical methods are usually used first, but there are also other ways: https://en.wikipedia.org/wiki/Normality_test\n",
    "    </ul>\n",
    "<li>  Is the sample size large? Are the observations independent?\n",
    "    <ul>\n",
    "    <li> Remember that this is a condition for the Central Limit Theorem, and hence the statistical tests we are using, to apply.\n",
    "    </ul>\n",
    "<li>  Is the true population mean really 98.6 degrees F?\n",
    "    <ul>\n",
    "    <li> First, try a bootstrap hypothesis test.\n",
    "    <li> Now, let's try frequentist statistical testing. Would you use a one-sample or two-sample test? Why?\n",
    "    <li> In this situation, is it appropriate to use the $t$ or $z$ statistic? \n",
    "    <li> Now try using the other test. How is the result be different? Why?\n",
    "    </ul>\n",
    "<li>  Draw a small sample of size 10 from the data and repeat both frequentist tests. \n",
    "    <ul>\n",
    "    <li> Which one is the correct one to use? \n",
    "    <li> What do you notice? What does this tell you about the difference in application of the $t$ and $z$ statistic?\n",
    "    </ul>\n",
    "<li>  At what temperature should we consider someone's temperature to be \"abnormal\"?\n",
    "    <ul>\n",
    "    <li> As in the previous example, try calculating everything using the boostrap approach, as well as the frequentist approach.\n",
    "    <li> Start by computing the margin of error and confidence interval. When calculating the confidence interval, keep in mind that you should use the appropriate formula for one draw, and not N draws.\n",
    "    </ul>\n",
    "<li>  Is there a significant difference between males and females in normal temperature?\n",
    "    <ul>\n",
    "    <li> What testing approach did you use and why?\n",
    "    <li> Write a story with your conclusion in the context of the original problem.\n",
    "    </ul>\n",
    "</ol>\n",
    "\n",
    "You can include written notes in notebook cells using Markdown: \n",
    "   - In the control panel at the top, choose Cell > Cell Type > Markdown\n",
    "   - Markdown syntax: http://nestacms.com/docs/creating-content/markdown-cheat-sheet\n",
    "\n",
    "#### Resources\n",
    "\n",
    "+ Information and data sources: http://www.amstat.org/publications/jse/datasets/normtemp.txt, http://www.amstat.org/publications/jse/jse_data_archive.htm\n",
    "+ Markdown syntax: http://nestacms.com/docs/creating-content/markdown-cheat-sheet\n",
    "\n",
    "****"
   ]
  },
  {
   "cell_type": "code",
   "execution_count": 1,
   "metadata": {},
   "outputs": [],
   "source": [
    "import pandas as pd\n",
    "import matplotlib.pyplot as plt\n",
    "import numpy as np\n",
    "from statsmodels.graphics.gofplots import qqplot\n",
    "from scipy.stats import shapiro\n",
    "from scipy import stats\n",
    "import statsmodels.stats.weightstats as smsw\n",
    "import scipy.stats as sstats\n",
    "\n"
   ]
  },
  {
   "cell_type": "code",
   "execution_count": 2,
   "metadata": {},
   "outputs": [],
   "source": [
    "df = pd.read_csv('human_body_temperature.csv')"
   ]
  },
  {
   "cell_type": "code",
   "execution_count": 3,
   "metadata": {},
   "outputs": [
    {
     "data": {
      "text/html": [
       "<div>\n",
       "<style scoped>\n",
       "    .dataframe tbody tr th:only-of-type {\n",
       "        vertical-align: middle;\n",
       "    }\n",
       "\n",
       "    .dataframe tbody tr th {\n",
       "        vertical-align: top;\n",
       "    }\n",
       "\n",
       "    .dataframe thead th {\n",
       "        text-align: right;\n",
       "    }\n",
       "</style>\n",
       "<table border=\"1\" class=\"dataframe\">\n",
       "  <thead>\n",
       "    <tr style=\"text-align: right;\">\n",
       "      <th></th>\n",
       "      <th>temperature</th>\n",
       "      <th>gender</th>\n",
       "      <th>heart_rate</th>\n",
       "    </tr>\n",
       "  </thead>\n",
       "  <tbody>\n",
       "    <tr>\n",
       "      <th>0</th>\n",
       "      <td>99.3</td>\n",
       "      <td>F</td>\n",
       "      <td>68.0</td>\n",
       "    </tr>\n",
       "    <tr>\n",
       "      <th>1</th>\n",
       "      <td>98.4</td>\n",
       "      <td>F</td>\n",
       "      <td>81.0</td>\n",
       "    </tr>\n",
       "    <tr>\n",
       "      <th>2</th>\n",
       "      <td>97.8</td>\n",
       "      <td>M</td>\n",
       "      <td>73.0</td>\n",
       "    </tr>\n",
       "    <tr>\n",
       "      <th>3</th>\n",
       "      <td>99.2</td>\n",
       "      <td>F</td>\n",
       "      <td>66.0</td>\n",
       "    </tr>\n",
       "    <tr>\n",
       "      <th>4</th>\n",
       "      <td>98.0</td>\n",
       "      <td>F</td>\n",
       "      <td>73.0</td>\n",
       "    </tr>\n",
       "  </tbody>\n",
       "</table>\n",
       "</div>"
      ],
      "text/plain": [
       "   temperature gender  heart_rate\n",
       "0         99.3      F        68.0\n",
       "1         98.4      F        81.0\n",
       "2         97.8      M        73.0\n",
       "3         99.2      F        66.0\n",
       "4         98.0      F        73.0"
      ]
     },
     "execution_count": 3,
     "metadata": {},
     "output_type": "execute_result"
    }
   ],
   "source": [
    "df.head()"
   ]
  },
  {
   "cell_type": "markdown",
   "metadata": {},
   "source": [
    "#### Q.1.Is the distribution of body temperatures normal?"
   ]
  },
  {
   "cell_type": "code",
   "execution_count": 4,
   "metadata": {},
   "outputs": [
    {
     "data": {
      "image/png": "[encoded data removed]",
      "text/plain": [
       "<Figure size 432x288 with 1 Axes>"
      ]
     },
     "metadata": {
      "needs_background": "light"
     },
     "output_type": "display_data"
    }
   ],
   "source": [
    "plt.hist(df['temperature'])     # using density instead of normed (deprecated)\n",
    "plt.xlabel('Temperature in F')\n",
    "plt.ylabel('Count')\n",
    "plt.show()"
   ]
  },
  {
   "cell_type": "markdown",
   "metadata": {},
   "source": [
    "By the shape of the histogram, the distribution appears to be almost normal.\n",
    "Testing the normality by other means\n"
   ]
  },
  {
   "cell_type": "code",
   "execution_count": 5,
   "metadata": {},
   "outputs": [],
   "source": [
    "# Calculating ECDF \n",
    "def ecdf(data):\n",
    "    n = len(data)\n",
    "    x = np.sort(data)\n",
    "    y = np.arange(1, n+1)/n\n",
    "    return x, y"
   ]
  },
  {
   "cell_type": "code",
   "execution_count": 6,
   "metadata": {},
   "outputs": [],
   "source": [
    "temp_mean = np.mean(df['temperature'])\n",
    "temp_std = np.std(df['temperature'])\n",
    "\n",
    "sample = np.random.normal(temp_mean, temp_std, size=1000000)\n"
   ]
  },
  {
   "cell_type": "code",
   "execution_count": 7,
   "metadata": {},
   "outputs": [
    {
     "data": {
      "image/png": "[encoded data removed]",
      "text/plain": [
       "<Figure size 432x288 with 1 Axes>"
      ]
     },
     "metadata": {
      "needs_background": "light"
     },
     "output_type": "display_data"
    }
   ],
   "source": [
    "x_act, y_act = ecdf(df['temperature'])\n",
    "x_sample, y_sample = ecdf(sample)\n",
    "_ = plt.plot(x_act, y_act, linestyle = 'none', marker = '.')\n",
    "_ = plt.plot(x_sample, y_sample)\n",
    "plt.show()"
   ]
  },
  {
   "cell_type": "markdown",
   "metadata": {},
   "source": [
    "From the above overlay of Sample and actual values , it appears that the distribution is almost normal. Verifying the same with a QQ plot\n"
   ]
  },
  {
   "cell_type": "markdown",
   "metadata": {},
   "source": [
    "#### 1.b. Q-Q Plot"
   ]
  },
  {
   "cell_type": "code",
   "execution_count": 8,
   "metadata": {},
   "outputs": [
    {
     "data": {
      "image/png": "[encoded data removed]",
      "text/plain": [
       "<Figure size 432x288 with 1 Axes>"
      ]
     },
     "execution_count": 8,
     "metadata": {},
     "output_type": "execute_result"
    },
    {
     "data": {
      "image/png": "[encoded data removed]",
      "text/plain": [
       "<Figure size 432x288 with 1 Axes>"
      ]
     },
     "metadata": {
      "needs_background": "light"
     },
     "output_type": "display_data"
    }
   ],
   "source": [
    "qqplot(df.temperature, line = 's')  "
   ]
  },
  {
   "cell_type": "markdown",
   "metadata": {},
   "source": [
    "The value s is the standardized line drawn for reference.\n",
    "The plot looks almost in line with the standardized line which shows the distribution is normal"
   ]
  },
  {
   "cell_type": "markdown",
   "metadata": {},
   "source": [
    "#### 1.c. Shapiro-Wilk test for normality"
   ]
  },
  {
   "cell_type": "markdown",
   "metadata": {},
   "source": [
    " The Shapiro–Wilk test tests the null hypothesis that a sample came from a normally distributed population\n",
    " i.e., our null hypothesis of the sample being normally distributed to be true"
   ]
  },
  {
   "cell_type": "code",
   "execution_count": 9,
   "metadata": {},
   "outputs": [
    {
     "name": "stdout",
     "output_type": "stream",
     "text": [
      "The p-value of the test is : 0.233174666762352\n"
     ]
    }
   ],
   "source": [
    "stat, p = shapiro(df['temperature'])\n",
    "print('The p-value of the test is :', p)"
   ]
  },
  {
   "cell_type": "markdown",
   "metadata": {},
   "source": [
    "As the above p-value is much greater than 0.05(significance level), we cannot reject Null hypothesis.\n",
    "In combination with above tests, it is safe to assume that the distribution is Normal."
   ]
  },
  {
   "cell_type": "markdown",
   "metadata": {},
   "source": [
    "#### 2. Is the sample size large? Are the observations independent?\n",
    "Remember that this is a condition for the Central Limit Theorem, and hence the statistical tests we are using, to apply."
   ]
  },
  {
   "cell_type": "code",
   "execution_count": 10,
   "metadata": {},
   "outputs": [
    {
     "data": {
      "text/plain": [
       "130"
      ]
     },
     "execution_count": 10,
     "metadata": {},
     "output_type": "execute_result"
    }
   ],
   "source": [
    "df['temperature'].count()"
   ]
  },
  {
   "cell_type": "markdown",
   "metadata": {},
   "source": [
    "By applying the 10% rule, it can be reasonably assumed that 130 (number of temperature entries) is much less than 10%\n",
    "of original dataset which probably has thousands of entries.\n",
    "\n",
    "The n value (130) is greater than 30 by which we can conclude that the sample size is large\n",
    "\n",
    "Also, each body temperature reading is independent of the next one as one's body temperature has no dependence\n",
    "on another."
   ]
  },
  {
   "cell_type": "markdown",
   "metadata": {},
   "source": [
    "#### Q3.a. Is the true population mean really 98.6 degrees F?\n",
    "First, try a bootstrap hypothesis test.<br/>\n",
    "Now, let's try frequentist statistical testing. Would you use a one-sample or two-sample test? Why?<br/>\n",
    "In this situation, is it appropriate to use the  𝑡  or  𝑧  statistic?<br/>\n",
    "Now try using the other test. How is the result be different? Why?<br/>"
   ]
  },
  {
   "cell_type": "markdown",
   "metadata": {},
   "source": [
    "We proceed with the null and alternate hypothesis that \n",
    "$$H_0:\\mu=98.6°F$$$$H_a: \\mu\\neq98.6°F$$"
   ]
  },
  {
   "cell_type": "markdown",
   "metadata": {},
   "source": [
    "To resample available data to find out the mean of resampled data, we use bootstrapping"
   ]
  },
  {
   "cell_type": "code",
   "execution_count": 11,
   "metadata": {},
   "outputs": [],
   "source": [
    "# Bootstrap replicate function\n",
    "def draw_bs_reps(data, func, size=1):\n",
    "    bs_replicates = np.empty(size)\n",
    "    for i in range(size):\n",
    "        bs_sample = np.random.choice(data, len(data))\n",
    "        bs_replicates[i] = func(bs_sample)\n",
    "    return bs_replicates"
   ]
  },
  {
   "cell_type": "code",
   "execution_count": 12,
   "metadata": {},
   "outputs": [],
   "source": [
    "repl_temp = draw_bs_reps(df.temperature, np.mean, 1000)"
   ]
  },
  {
   "cell_type": "code",
   "execution_count": 13,
   "metadata": {},
   "outputs": [
    {
     "data": {
      "image/png": "[encoded data removed]",
      "text/plain": [
       "<Figure size 432x288 with 1 Axes>"
      ]
     },
     "metadata": {
      "needs_background": "light"
     },
     "output_type": "display_data"
    }
   ],
   "source": [
    "x_samp, y_samp = ecdf(repl_temp)\n",
    "_ = plt.plot(x_samp, y_samp, linestyle = 'none', marker = '.')\n",
    "_ = plt.xlabel('Temperature in F')\n",
    "_ = plt.ylabel('ECDF')\n",
    "\n",
    "\n",
    "plt.show()"
   ]
  },
  {
   "cell_type": "markdown",
   "metadata": {},
   "source": [
    "Finding the confidence interval"
   ]
  },
  {
   "cell_type": "code",
   "execution_count": 14,
   "metadata": {},
   "outputs": [
    {
     "name": "stdout",
     "output_type": "stream",
     "text": [
      "The confidence interval is between :  98.12844230769231 and 98.38001923076925\n"
     ]
    }
   ],
   "source": [
    "conf_interval = np.percentile (repl_temp, [2.5,97.5])\n",
    "\n",
    "print('The confidence interval is between : ',conf_interval[0], 'and', conf_interval[1])"
   ]
  },
  {
   "cell_type": "markdown",
   "metadata": {},
   "source": [
    "As seen above the confidence interval (95%) is between 98.12 and 98.37 F while the Null hypothesis presuming is that\n",
    "the mean is 98.6 F.\n",
    "As the assumed average temperature does not lie in the confidence interval range, we reject the null hypothesis.\n",
    "Therefore, the population mean temperature is not 98.6 F "
   ]
  },
  {
   "cell_type": "markdown",
   "metadata": {},
   "source": [
    "#### 3.b. Frequentist statistical testing. Would you use a one-sample or two-sample test? Why?\n"
   ]
  },
  {
   "cell_type": "markdown",
   "metadata": {},
   "source": [
    "We use one sample test as we are testing the sample against one value"
   ]
  },
  {
   "cell_type": "markdown",
   "metadata": {},
   "source": [
    "#### 3.c. In this situation, is it appropriate to use the  𝑡  or  𝑧  statistic?\n"
   ]
  },
  {
   "cell_type": "markdown",
   "metadata": {},
   "source": [
    "•\tFor calculating proportions we use z-statistic <br/>\n",
    "•\tFor calculating means, we use t statistic"
   ]
  },
  {
   "cell_type": "markdown",
   "metadata": {},
   "source": [
    "The value of z is given by "
   ]
  },
  {
   "cell_type": "markdown",
   "metadata": {},
   "source": [
    "<img style=\"float: left;\" \n",
    "src=\"https://www.statisticshowto.datasciencecentral.com/wp-content/uploads/2016/11/alternate-z-score.png\">"
   ]
  },
  {
   "cell_type": "markdown",
   "metadata": {},
   "source": [
    "Where xi is the sample mean, xbar is the assumed mean assuming null hypothesis is true,  S is the Standard error of the mean (standard deviation of sampling distribution of sample mean)"
   ]
  },
  {
   "cell_type": "markdown",
   "metadata": {},
   "source": [
    "The denominator is equal to $\\frac{\\sigma}{\\sqrt{n}}$, or the standard deviation of the population divided by the square root of the sample size. Since we don't know the value of $\\sigma$,(as the dataset we are using is a sample) we estimate it using the sample standard deviation divided by Square root of n,  $$\\frac{\\bar{x}-\\mu_\\bar{x}}{\\frac{s}{\\sqrt{n}}}.$$ \n",
    "This approximation would give a better result with t-score"
   ]
  },
  {
   "cell_type": "code",
   "execution_count": 15,
   "metadata": {},
   "outputs": [
    {
     "name": "stdout",
     "output_type": "stream",
     "text": [
      "The t-score is: -5.475925202078116\n",
      "p value of t_score is : 4.3523151658821886e-08\n"
     ]
    }
   ],
   "source": [
    "t_score = (np.mean(df['temperature']) - 98.6) /((np.std(df['temperature'])/np.sqrt(len(df))))\n",
    "p = stats.norm.cdf(t_score)*2\n",
    "print('The t-score is:', t_score)\n",
    "print('p value of t_score is :', p)"
   ]
  },
  {
   "cell_type": "markdown",
   "metadata": {},
   "source": [
    "The p value is approximately 0.00000004 which is much less than 0.05 (Signigicance level) and suggests that our null hypothesis is to be rejected"
   ]
  },
  {
   "cell_type": "markdown",
   "metadata": {},
   "source": [
    "#### 3.d. Now try using the other test. How is the result be different? Why?"
   ]
  },
  {
   "cell_type": "code",
   "execution_count": 16,
   "metadata": {},
   "outputs": [
    {
     "data": {
      "text/plain": [
       "(-5.4548232923645195, 4.9021570141012155e-08)"
      ]
     },
     "execution_count": 16,
     "metadata": {},
     "output_type": "execute_result"
    }
   ],
   "source": [
    "smsw.ztest(df['temperature'], value=98.6)"
   ]
  },
  {
   "cell_type": "markdown",
   "metadata": {},
   "source": [
    "Although the t score and z score are almost the same, the correspond p-values differ. The p-value of z score is also much lower than 0.05 (significance level) "
   ]
  },
  {
   "cell_type": "markdown",
   "metadata": {},
   "source": [
    "#### Q4. Draw a small sample of size 10 from the data and repeat both frequentist tests.\n",
    "#### Which one is the correct one to use?\n",
    "#### What do you notice? What does this tell you about the difference in application of the  𝑡  and  𝑧  statistic?\n"
   ]
  },
  {
   "cell_type": "code",
   "execution_count": 17,
   "metadata": {},
   "outputs": [],
   "source": [
    "sample_10 = np.random.choice(df['temperature'], 10)"
   ]
  },
  {
   "cell_type": "code",
   "execution_count": 18,
   "metadata": {},
   "outputs": [
    {
     "data": {
      "text/plain": [
       "array([98.4, 97.8, 99.1, 97.1, 97.4, 98.7, 97.9, 97.1, 97.8, 99.4])"
      ]
     },
     "execution_count": 18,
     "metadata": {},
     "output_type": "execute_result"
    }
   ],
   "source": [
    "sample_10"
   ]
  },
  {
   "cell_type": "code",
   "execution_count": 19,
   "metadata": {},
   "outputs": [
    {
     "name": "stdout",
     "output_type": "stream",
     "text": [
      "t-score: -2.1929678587355106 p-value : 0.02830969490275525\n"
     ]
    }
   ],
   "source": [
    "s10_mean = np.mean(sample_10)\n",
    "s10_std = np.std(sample_10)\n",
    "\n",
    "t_score_sample10 = (s10_mean - 98.6) /(s10_std/np.sqrt(10))\n",
    "p_value_t_sample_10 = stats.norm.cdf(t_score_sample10)*2\n",
    "print('t-score:', t_score_sample10, 'p-value :', p_value_t_sample_10)"
   ]
  },
  {
   "cell_type": "code",
   "execution_count": 20,
   "metadata": {},
   "outputs": [
    {
     "name": "stdout",
     "output_type": "stream",
     "text": [
      "z-score: -2.294775530975979 p-value : 0.021745991625473436\n"
     ]
    }
   ],
   "source": [
    "z_score_sample_10 = (s10_mean - 98.6) /(temp_std/np.sqrt(10))          # here the std deviation of population is used\n",
    "p_value_z_sample_10 = stats.norm.cdf(z_score_sample_10)*2\n",
    "print('z-score:',z_score_sample_10, 'p-value :', p_value_z_sample_10)"
   ]
  },
  {
   "cell_type": "markdown",
   "metadata": {},
   "source": [
    "For the t-score, the p-value is larger than the one obtained using z-score.\n"
   ]
  },
  {
   "cell_type": "markdown",
   "metadata": {},
   "source": [
    "#### Q5. At what temperature should we consider someone's temperature to be \"abnormal\"?\n",
    "#### As in the previous example, try calculating everything using the boostrap approach, as well as the frequentist approach.\n",
    "#### Start by computing the margin of error and confidence interval. When calculating the confidence interval, keep in mind that you should use the appropriate formula for one draw, and not N draws.\n"
   ]
  },
  {
   "cell_type": "markdown",
   "metadata": {},
   "source": [
    "Margin of error = z*s where S is standard error\n"
   ]
  },
  {
   "cell_type": "markdown",
   "metadata": {},
   "source": [
    "Confidence interval = <img style=\"float: middle;\" \n",
    "src= https://www.statisticshowto.datasciencecentral.com/wp-content/uploads/2009/10/t-dist.jpg>"
   ]
  },
  {
   "cell_type": "code",
   "execution_count": 21,
   "metadata": {},
   "outputs": [
    {
     "name": "stdout",
     "output_type": "stream",
     "text": [
      "The confidence interval by is :[ 96.8177295225769 , 99.68073201588466 ]\n"
     ]
    }
   ],
   "source": [
    "ci_lower = temp_mean-(1.96)*(temp_std/np.sqrt(1))             # formula for 1 draw; Z value for 95% CI\n",
    "ci_upper = temp_mean+(1.96)*(temp_std/np.sqrt(1))\n",
    "print('The confidence interval by is :[', ci_lower, ',', ci_upper,']')"
   ]
  },
  {
   "cell_type": "code",
   "execution_count": 22,
   "metadata": {},
   "outputs": [
    {
     "name": "stdout",
     "output_type": "stream",
     "text": [
      "Marign of error is : 1.431501246653874\n"
     ]
    }
   ],
   "source": [
    "moe = (1.96)*(temp_std/np.sqrt(1))                           # 1.96 is the z score for 95% CI\n",
    "print('Marign of error is :', moe)"
   ]
  },
  {
   "cell_type": "markdown",
   "metadata": {},
   "source": [
    "As calculated above, considering the 95% confidence interval and n=1 draw, the temperature range lies between 96.8 F and 99.6 F.\n",
    "Any value outside this range (< 96.8 and > 99.6 can be considered abnormal.)"
   ]
  },
  {
   "cell_type": "markdown",
   "metadata": {},
   "source": [
    "#### Q6. Is there a significant difference between males and females in normal temperature?\n",
    "#### What testing approach did you use and why?\n",
    "#### Write a story with your conclusion in the context of the original problem."
   ]
  },
  {
   "cell_type": "code",
   "execution_count": 23,
   "metadata": {},
   "outputs": [
    {
     "data": {
      "text/plain": [
       "M    65\n",
       "F    65\n",
       "Name: gender, dtype: int64"
      ]
     },
     "execution_count": 23,
     "metadata": {},
     "output_type": "execute_result"
    }
   ],
   "source": [
    "df['gender'].value_counts()"
   ]
  },
  {
   "cell_type": "markdown",
   "metadata": {},
   "source": [
    "The dataframe is equally divided between male and female population"
   ]
  },
  {
   "cell_type": "code",
   "execution_count": 24,
   "metadata": {},
   "outputs": [],
   "source": [
    "male = df[['temperature', 'gender']]\n",
    "temp_male = male.loc[male.gender == 'M']\n",
    "temp_male = temp_male.drop(['gender'], axis =1)\n",
    "temp_male = np.array(temp_male['temperature'])\n",
    "\n",
    "female = df[['temperature', 'gender']]\n",
    "temp_female = female.loc[female.gender == 'F']\n",
    "temp_female = temp_female.drop(['gender'], axis =1)\n",
    "temp_female = np.array(temp_female['temperature'])"
   ]
  },
  {
   "cell_type": "code",
   "execution_count": 25,
   "metadata": {},
   "outputs": [
    {
     "data": {
      "image/png": "[encoded data removed]",
      "text/plain": [
       "<Figure size 432x288 with 1 Axes>"
      ]
     },
     "metadata": {
      "needs_background": "light"
     },
     "output_type": "display_data"
    }
   ],
   "source": [
    "male_temp_val, male_temp_ind = ecdf(temp_male)\n",
    "female_temp_val, female_temp_ind = ecdf(temp_female)\n",
    "\n",
    "_ = plt.plot(male_temp_val, male_temp_ind, color = 'green', marker = '.', linestyle = 'none')\n",
    "_ = plt.plot(female_temp_val, female_temp_ind, color = 'red', marker = '.', linestyle = 'none')\n",
    "_ = plt.xlabel('Body temperature in F')\n",
    "_ = plt.ylabel('ECDF')\n",
    "_ = plt.legend(['male', 'female'], loc='upper left')\n",
    "plt.show()"
   ]
  },
  {
   "cell_type": "markdown",
   "metadata": {},
   "source": [
    "Clearly, both the CDF values are different which indicates there is difference between male and female temperatures\n",
    "\n",
    "ECDF was calculated for both values and overlaid on same graph to check variation"
   ]
  }
 ],
 "metadata": {
  "kernelspec": {
   "display_name": "Python 3",
   "language": "python",
   "name": "python3"
  },
  "language_info": {
   "codemirror_mode": {
    "name": "ipython",
    "version": 3
   },
   "file_extension": ".py",
   "mimetype": "text/x-python",
   "name": "python",
   "nbconvert_exporter": "python",
   "pygments_lexer": "ipython3",
   "version": "3.7.1"
  }
 },
 "nbformat": 4,
 "nbformat_minor": 1
}
